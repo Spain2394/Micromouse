{
 "cells": [
  {
   "cell_type": "code",
   "execution_count": null,
   "metadata": {},
   "outputs": [],
   "source": [
    "from strategy import *\n",
    "\n",
    "    "
   ]
  },
  {
   "cell_type": "code",
   "execution_count": 21,
   "metadata": {},
   "outputs": [],
   "source": [
    "def GroupCentroid(neighbors_states):\n",
    "        group_centroid = ()\n",
    "        sumCx = 0\n",
    "        sumCy = 0\n",
    "        sumAc = 0\n",
    "        lstP = neighbors_states.copy() # copy the neighbors_states\n",
    "        cX = 0\n",
    "        cY = 0\n",
    "        pA = 0\n",
    "    \n",
    "        print(\"group centroid function\")\n",
    "        for i in range(1,len(neighbors_states)): # go through all the robot vertices\n",
    "            print(\"in centroid loop\")\n",
    "            # print(lstP)\n",
    "            # print(lstP[i]['x'])\n",
    "            # print(self.num_bots)\n",
    "            print(lstP[i+1]['x'])\n",
    "            cX = (lstP[i]['x']+lstP[i+1]['x'])*(lstP[i]['x']*lstP[i+1]['y']-lstP[i+1]['x']*lstP[i]['y'])\n",
    "            cY = (lstP[i]['y']+lstP[i+1]['y'])*(lstP[i]['x']*lstP[i+1]['y']-lstP[i+1]['x']*lstP[i]['y'])\n",
    "            pA = (lstP[i]['x']*lstP[i+1]['y'])-(lstP[i+1]['x']*lstP[i]['y'])\n",
    "            print(\"pA%s\"%pA)\n",
    "            sumCx+=cX\n",
    "            sumCy+=cY\n",
    "            sumAc+=pA\n",
    "            print(cX,cY,pA)\n",
    "            print(\"sumAc\",sumAc)\n",
    "\n",
    "        ar = sumAc/2.0\n",
    "        print(ar)\n",
    "        centr = ((1.0/(6.0*ar))*sumCx,(1.0/(6.0*ar))*sumCy)\n",
    "        print(\"group centroid:\",centr)\n",
    "        return centr\n",
    "    \n",
    "\n"
   ]
  },
  {
   "cell_type": "code",
   "execution_count": 22,
   "metadata": {},
   "outputs": [
    {
     "name": "stdout",
     "output_type": "stream",
     "text": [
      "group centroid function\n",
      "in centroid loop\n",
      "15\n",
      "pA0\n",
      "0 0 0\n",
      "in centroid loop\n",
      "0\n",
      "pA225\n",
      "3375 3375 225\n",
      "in centroid loop\n",
      "15\n",
      "pA-225\n",
      "-3375 -6750 -225\n",
      "0.0\n"
     ]
    },
    {
     "ename": "ZeroDivisionError",
     "evalue": "float division by zero",
     "output_type": "error",
     "traceback": [
      "\u001b[0;31m---------------------------------------------------------------------------\u001b[0m",
      "\u001b[0;31mZeroDivisionError\u001b[0m                         Traceback (most recent call last)",
      "\u001b[0;32m<ipython-input-22-cb2d03f6b3d4>\u001b[0m in \u001b[0;36m<module>\u001b[0;34m\u001b[0m\n\u001b[1;32m      6\u001b[0m                            'y':initPoint[str(i)][1],'direction':'UP'}\n\u001b[1;32m      7\u001b[0m \u001b[0;34m\u001b[0m\u001b[0m\n\u001b[0;32m----> 8\u001b[0;31m \u001b[0mcentroid\u001b[0m \u001b[0;34m=\u001b[0m \u001b[0mGroupCentroid\u001b[0m\u001b[0;34m(\u001b[0m\u001b[0mneighbors_states\u001b[0m\u001b[0;34m)\u001b[0m\u001b[0;34m\u001b[0m\u001b[0;34m\u001b[0m\u001b[0m\n\u001b[0m\u001b[1;32m      9\u001b[0m \u001b[0mprint\u001b[0m\u001b[0;34m(\u001b[0m\u001b[0mlen\u001b[0m\u001b[0;34m(\u001b[0m\u001b[0mneighbors_states\u001b[0m\u001b[0;34m)\u001b[0m\u001b[0;34m)\u001b[0m\u001b[0;34m\u001b[0m\u001b[0;34m\u001b[0m\u001b[0m\n\u001b[1;32m     10\u001b[0m \u001b[0;34m\u001b[0m\u001b[0m\n",
      "\u001b[0;32m<ipython-input-21-b477ac311177>\u001b[0m in \u001b[0;36mGroupCentroid\u001b[0;34m(neighbors_states)\u001b[0m\n\u001b[1;32m     27\u001b[0m         \u001b[0mar\u001b[0m \u001b[0;34m=\u001b[0m \u001b[0msumAc\u001b[0m\u001b[0;34m/\u001b[0m\u001b[0;36m2.0\u001b[0m\u001b[0;34m\u001b[0m\u001b[0;34m\u001b[0m\u001b[0m\n\u001b[1;32m     28\u001b[0m         \u001b[0mprint\u001b[0m\u001b[0;34m(\u001b[0m\u001b[0mar\u001b[0m\u001b[0;34m)\u001b[0m\u001b[0;34m\u001b[0m\u001b[0;34m\u001b[0m\u001b[0m\n\u001b[0;32m---> 29\u001b[0;31m         \u001b[0mcentr\u001b[0m \u001b[0;34m=\u001b[0m \u001b[0;34m(\u001b[0m\u001b[0;34m(\u001b[0m\u001b[0;36m1.0\u001b[0m\u001b[0;34m/\u001b[0m\u001b[0;34m(\u001b[0m\u001b[0;36m6.0\u001b[0m\u001b[0;34m*\u001b[0m\u001b[0mar\u001b[0m\u001b[0;34m)\u001b[0m\u001b[0;34m)\u001b[0m\u001b[0;34m*\u001b[0m\u001b[0msumCx\u001b[0m\u001b[0;34m,\u001b[0m\u001b[0;34m(\u001b[0m\u001b[0;36m1.0\u001b[0m\u001b[0;34m/\u001b[0m\u001b[0;34m(\u001b[0m\u001b[0;36m6.0\u001b[0m\u001b[0;34m*\u001b[0m\u001b[0mar\u001b[0m\u001b[0;34m)\u001b[0m\u001b[0;34m)\u001b[0m\u001b[0;34m*\u001b[0m\u001b[0msumCy\u001b[0m\u001b[0;34m)\u001b[0m\u001b[0;34m\u001b[0m\u001b[0;34m\u001b[0m\u001b[0m\n\u001b[0m\u001b[1;32m     30\u001b[0m         \u001b[0mprint\u001b[0m\u001b[0;34m(\u001b[0m\u001b[0;34m\"group centroid:\"\u001b[0m\u001b[0;34m,\u001b[0m\u001b[0mcentr\u001b[0m\u001b[0;34m)\u001b[0m\u001b[0;34m\u001b[0m\u001b[0;34m\u001b[0m\u001b[0m\n\u001b[1;32m     31\u001b[0m         \u001b[0;32mreturn\u001b[0m \u001b[0mcentr\u001b[0m\u001b[0;34m\u001b[0m\u001b[0;34m\u001b[0m\u001b[0m\n",
      "\u001b[0;31mZeroDivisionError\u001b[0m: float division by zero"
     ]
    }
   ],
   "source": [
    "centroid = ()\n",
    "neighbors_states = {}\n",
    "initPoint = {'1':(0,0), '2':(15,0), '3':(0,15), '4':(15,15)} # 4 robot initial positions\n",
    "for i in range(1,len(initPoint)+1):\n",
    "    neighbors_states[i] = {'x':initPoint[str(i)][0],\n",
    "                           'y':initPoint[str(i)][1],'direction':'UP'}\n",
    "\n",
    "centroid = GroupCentroid(neighbors_states)\n",
    "print(len(neighbors_states))\n",
    "\n"
   ]
  },
  {
   "cell_type": "code",
   "execution_count": null,
   "metadata": {},
   "outputs": [],
   "source": []
  }
 ],
 "metadata": {
  "kernelspec": {
   "display_name": "Python 3",
   "language": "python",
   "name": "python3"
  },
  "language_info": {
   "codemirror_mode": {
    "name": "ipython",
    "version": 3
   },
   "file_extension": ".py",
   "mimetype": "text/x-python",
   "name": "python",
   "nbconvert_exporter": "python",
   "pygments_lexer": "ipython3",
   "version": "3.7.1"
  }
 },
 "nbformat": 4,
 "nbformat_minor": 2
}
